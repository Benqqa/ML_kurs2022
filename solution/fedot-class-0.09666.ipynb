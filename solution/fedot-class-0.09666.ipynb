{
 "cells": [
  {
   "cell_type": "code",
   "execution_count": 1,
   "id": "18adaedd",
   "metadata": {},
   "outputs": [],
   "source": [
    "from sklearn.model_selection import train_test_split\n",
    "from sklearn.metrics import r2_score, recall_score, mean_absolute_percentage_error, precision_score\n",
    "from catboost import CatBoostRegressor\n",
    "import optuna\n",
    "\n",
    "import pandas as pd\n",
    "import numpy as np\n",
    "import matplotlib.pyplot as plt\n",
    "import seaborn as sns\n",
    "from sklearn.cluster import KMeans\n",
    "from sklearn.metrics import silhouette_score\n",
    "from sklearn.preprocessing import MinMaxScaler\n",
    "from sklearn.preprocessing import OneHotEncoder\n",
    "import matplotlib.pyplot as plt\n",
    "import catboost as cb\n",
    "from catboost import CatBoostRegressor, cv, Pool, CatBoostClassifier\n",
    "from sklearn.metrics import accuracy_score\n",
    "from fedot.api.main import Fedot\n"
   ]
  },
  {
   "cell_type": "code",
   "execution_count": 2,
   "id": "b4754cfb",
   "metadata": {},
   "outputs": [
    {
     "data": {
      "text/html": [
       "<div>\n",
       "<style scoped>\n",
       "    .dataframe tbody tr th:only-of-type {\n",
       "        vertical-align: middle;\n",
       "    }\n",
       "\n",
       "    .dataframe tbody tr th {\n",
       "        vertical-align: top;\n",
       "    }\n",
       "\n",
       "    .dataframe thead th {\n",
       "        text-align: right;\n",
       "    }\n",
       "</style>\n",
       "<table border=\"1\" class=\"dataframe\">\n",
       "  <thead>\n",
       "    <tr style=\"text-align: right;\">\n",
       "      <th></th>\n",
       "      <th>ticket_type_nm</th>\n",
       "      <th>entrance_nm</th>\n",
       "      <th>station_nm</th>\n",
       "      <th>line_nm</th>\n",
       "      <th>label</th>\n",
       "      <th>day</th>\n",
       "      <th>hour</th>\n",
       "      <th>workday</th>\n",
       "      <th>shift</th>\n",
       "    </tr>\n",
       "  </thead>\n",
       "  <tbody>\n",
       "    <tr>\n",
       "      <th>0</th>\n",
       "      <td>Пропуск</td>\n",
       "      <td>Лефортово БКЛ</td>\n",
       "      <td>Лефортово</td>\n",
       "      <td>Большая кольцевая</td>\n",
       "      <td>8001</td>\n",
       "      <td>0</td>\n",
       "      <td>5</td>\n",
       "      <td>1</td>\n",
       "      <td>1</td>\n",
       "    </tr>\n",
       "    <tr>\n",
       "      <th>1</th>\n",
       "      <td>СК</td>\n",
       "      <td>Войковская ( Южный )</td>\n",
       "      <td>Войковская</td>\n",
       "      <td>Замоскворецкая</td>\n",
       "      <td>9011</td>\n",
       "      <td>0</td>\n",
       "      <td>5</td>\n",
       "      <td>1</td>\n",
       "      <td>1</td>\n",
       "    </tr>\n",
       "    <tr>\n",
       "      <th>2</th>\n",
       "      <td>БСК</td>\n",
       "      <td>Войковская ( Южный )</td>\n",
       "      <td>Войковская</td>\n",
       "      <td>Замоскворецкая</td>\n",
       "      <td>7022</td>\n",
       "      <td>0</td>\n",
       "      <td>5</td>\n",
       "      <td>1</td>\n",
       "      <td>1</td>\n",
       "    </tr>\n",
       "    <tr>\n",
       "      <th>3</th>\n",
       "      <td>30</td>\n",
       "      <td>Войковская ( Южный )</td>\n",
       "      <td>Войковская</td>\n",
       "      <td>Замоскворецкая</td>\n",
       "      <td>2022</td>\n",
       "      <td>0</td>\n",
       "      <td>5</td>\n",
       "      <td>1</td>\n",
       "      <td>1</td>\n",
       "    </tr>\n",
       "    <tr>\n",
       "      <th>4</th>\n",
       "      <td>КОШЕЛЕК</td>\n",
       "      <td>Войковская ( Южный )</td>\n",
       "      <td>Войковская</td>\n",
       "      <td>Замоскворецкая</td>\n",
       "      <td>2017</td>\n",
       "      <td>0</td>\n",
       "      <td>5</td>\n",
       "      <td>1</td>\n",
       "      <td>1</td>\n",
       "    </tr>\n",
       "  </tbody>\n",
       "</table>\n",
       "</div>"
      ],
      "text/plain": [
       "  ticket_type_nm           entrance_nm  station_nm            line_nm  label  \\\n",
       "0        Пропуск         Лефортово БКЛ   Лефортово  Большая кольцевая   8001   \n",
       "1             СК  Войковская ( Южный )  Войковская     Замоскворецкая   9011   \n",
       "2            БСК  Войковская ( Южный )  Войковская     Замоскворецкая   7022   \n",
       "3             30  Войковская ( Южный )  Войковская     Замоскворецкая   2022   \n",
       "4        КОШЕЛЕК  Войковская ( Южный )  Войковская     Замоскворецкая   2017   \n",
       "\n",
       "   day  hour  workday  shift  \n",
       "0    0     5        1      1  \n",
       "1    0     5        1      1  \n",
       "2    0     5        1      1  \n",
       "3    0     5        1      1  \n",
       "4    0     5        1      1  "
      ]
     },
     "execution_count": 2,
     "metadata": {},
     "output_type": "execute_result"
    }
   ],
   "source": [
    "df = pd.read_csv('train_dataset_train.csv')\n",
    "df = df.drop(df.index[range(2000, 1091021)])\n",
    "df.pass_dttm = pd.to_datetime(df.pass_dttm)\n",
    "df['day'] = df.pass_dttm.dt.dayofweek #день недели\n",
    "df['hour'] = df.pass_dttm.dt.hour # час в формате 24\n",
    "df['workday'] = df['day'].apply(lambda x: 0 if x == 5 or x == 6 else 1)\n",
    "df['shift'] = df['hour'].apply(lambda x: 0 if 10 <= x <= 17 else (\n",
    "        1 if 0 <= x <= 6 else (2 if 7 <= x <= 9 else (3 if x >= 18 else x))))\n",
    "df = df.drop(columns=['pass_dttm'])\n",
    "df.replace({'30 дней СК учащегося':'СК учащегося 30 дней',\n",
    "'30 дней СК студента': 'СК студента 30 дней',\n",
    "'90 дней СК студента':'СК студента 90 дней',\n",
    "'90 дней СК учащегося':'СК учащегося 90 дней',\n",
    "'3 суток Единый ТК':'Билет 3 суток ЕДИНЫЙ',\n",
    "'30 дней СК ассистента-стажера':'СК ассистента-стажера 30 дней',\n",
    "'90 дней СК аспиранта':'СК аспиранта 90 дней',\n",
    "'30 дней СК аспиранта':'СК аспиранта 30 дней',\n",
    "'90 дней СК аспиранта':'СК аспиранта 90 дней',\n",
    "'30 дней СК ординатора':'СК ординатора 30 дней',\n",
    "'90 дней СК ординатора':'СК ординатора 90 дней'}, inplace=True)\n",
    "df['ticket_type_nm'] = df.ticket_type_nm.apply(lambda x: x.split(' ')[0])\n",
    "df = df.drop(['ticket_id','id','station_id', 'line_id','entrance_id','time_to_under'], axis=1)\n",
    "# df = df.loc[df.time_to_under > 0]\n",
    "df.head()"
   ]
  },
  {
   "cell_type": "code",
   "execution_count": 3,
   "id": "0f62e2d3",
   "metadata": {},
   "outputs": [],
   "source": [
    "X = df.drop(['label'],axis=1)\n",
    "y = df['label']\n",
    "X_train, X_test, y_train, y_test = train_test_split(X, y, test_size=0.3)"
   ]
  },
  {
   "cell_type": "code",
   "execution_count": 9,
   "id": "0185476a",
   "metadata": {},
   "outputs": [],
   "source": [
    "auto_model = Fedot(problem='classification', timeout=10)"
   ]
  },
  {
   "cell_type": "code",
   "execution_count": 10,
   "id": "1b231690",
   "metadata": {},
   "outputs": [
    {
     "name": "stdout",
     "output_type": "stream",
     "text": [
      "2022-12-11 22:50:31,674 - ApiComposer - Initial pipeline was fitted in 2.1 sec.\n",
      "2022-12-11 22:50:31,680 - ApiComposer - AutoML configured. Parameters tuning: True Time limit: 10 min Set of candidate models: ['bernb', 'dt', 'knn', 'lgbm', 'logit', 'mlp', 'qda', 'rf', 'scaling', 'normalization', 'pca', 'fast_ica', 'poly_features', 'isolation_forest_class', 'resample']\n",
      "2022-12-11 22:50:31,824 - ApiComposer - Pipeline composition started.\n"
     ]
    },
    {
     "name": "stderr",
     "output_type": "stream",
     "text": [
      "\r",
      "Generations:   0%|                                                                          | 1/10000 [00:00<?, ?gen/s]"
     ]
    },
    {
     "name": "stdout",
     "output_type": "stream",
     "text": [
      "Metric evaluation error: Number of classes in y_true not equal to the number of columns in 'y_score'\n",
      "Metric evaluation error: Number of classes in y_true not equal to the number of columns in 'y_score'\n",
      "Metric evaluation error: Number of classes in y_true not equal to the number of columns in 'y_score'\n",
      "Metric evaluation error: Number of classes in y_true not equal to the number of columns in 'y_score'\n",
      "Metric evaluation error: Number of classes in y_true not equal to the number of columns in 'y_score'\n",
      "Metric evaluation error: Number of classes in y_true not equal to the number of columns in 'y_score'\n",
      "Metric evaluation error: Number of classes in y_true not equal to the number of columns in 'y_score'\n",
      "Metric evaluation error: Number of classes in y_true not equal to the number of columns in 'y_score'\n",
      "Metric evaluation error: Number of classes in y_true not equal to the number of columns in 'y_score'\n",
      "Metric evaluation error: Number of classes in y_true not equal to the number of columns in 'y_score'\n",
      "Metric evaluation error: Number of classes in y_true not equal to the number of columns in 'y_score'\n",
      "Metric evaluation error: Number of classes in y_true not equal to the number of columns in 'y_score'\n",
      "Metric evaluation error: Number of classes in y_true not equal to the number of columns in 'y_score'\n",
      "Metric evaluation error: Number of classes in y_true not equal to the number of columns in 'y_score'\n",
      "Metric evaluation error: Number of classes in y_true not equal to the number of columns in 'y_score'\n",
      "Metric evaluation error: Number of classes in y_true not equal to the number of columns in 'y_score'\n",
      "Metric evaluation error: Number of classes in y_true not equal to the number of columns in 'y_score'\n",
      "Metric evaluation error: Number of classes in y_true not equal to the number of columns in 'y_score'\n",
      "Metric evaluation error: Number of classes in y_true not equal to the number of columns in 'y_score'\n",
      "Metric evaluation error: Number of classes in y_true not equal to the number of columns in 'y_score'\n",
      "Metric evaluation error: Number of classes in y_true not equal to the number of columns in 'y_score'\n",
      "Metric evaluation error: Number of classes in y_true not equal to the number of columns in 'y_score'\n",
      "Metric evaluation error: Number of classes in y_true not equal to the number of columns in 'y_score'\n",
      "Metric evaluation error: Number of classes in y_true not equal to the number of columns in 'y_score'\n",
      "Metric evaluation error: Number of classes in y_true not equal to the number of columns in 'y_score'\n",
      "Metric evaluation error: Number of classes in y_true not equal to the number of columns in 'y_score'\n",
      "Metric evaluation error: Number of classes in y_true not equal to the number of columns in 'y_score'\n",
      "Metric evaluation error: Number of classes in y_true not equal to the number of columns in 'y_score'\n",
      "Metric evaluation error: Number of classes in y_true not equal to the number of columns in 'y_score'\n",
      "Metric evaluation error: Number of classes in y_true not equal to the number of columns in 'y_score'\n",
      "Metric evaluation error: Number of classes in y_true not equal to the number of columns in 'y_score'\n",
      "Metric evaluation error: Number of classes in y_true not equal to the number of columns in 'y_score'\n",
      "Metric evaluation error: Number of classes in y_true not equal to the number of columns in 'y_score'\n",
      "Metric evaluation error: Number of classes in y_true not equal to the number of columns in 'y_score'\n",
      "Metric evaluation error: Number of classes in y_true not equal to the number of columns in 'y_score'\n",
      "Metric evaluation error: Number of classes in y_true not equal to the number of columns in 'y_score'\n",
      "Metric evaluation error: Number of classes in y_true not equal to the number of columns in 'y_score'\n",
      "Metric evaluation error: Number of classes in y_true not equal to the number of columns in 'y_score'\n",
      "Metric evaluation error: Number of classes in y_true not equal to the number of columns in 'y_score'\n",
      "Metric evaluation error: Number of classes in y_true not equal to the number of columns in 'y_score'\n",
      "Metric evaluation error: Number of classes in y_true not equal to the number of columns in 'y_score'\n",
      "Metric evaluation error: Number of classes in y_true not equal to the number of columns in 'y_score'\n",
      "Metric evaluation error: Number of classes in y_true not equal to the number of columns in 'y_score'\n",
      "Metric evaluation error: Number of classes in y_true not equal to the number of columns in 'y_score'\n",
      "Metric evaluation error: Number of classes in y_true not equal to the number of columns in 'y_score'\n"
     ]
    },
    {
     "name": "stderr",
     "output_type": "stream",
     "text": [
      "E:\\Programm\\python\\lib\\site-packages\\sklearn\\decomposition\\_fastica.py:494: FutureWarning: Starting in v1.3, whiten='unit-variance' will be used by default.\n",
      "  warnings.warn(\n"
     ]
    },
    {
     "name": "stdout",
     "output_type": "stream",
     "text": [
      "Metric evaluation error: Number of classes in y_true not equal to the number of columns in 'y_score'\n"
     ]
    },
    {
     "name": "stderr",
     "output_type": "stream",
     "text": [
      "E:\\Programm\\python\\lib\\site-packages\\sklearn\\decomposition\\_fastica.py:494: FutureWarning: Starting in v1.3, whiten='unit-variance' will be used by default.\n",
      "  warnings.warn(\n"
     ]
    },
    {
     "name": "stdout",
     "output_type": "stream",
     "text": [
      "Metric evaluation error: Number of classes in y_true not equal to the number of columns in 'y_score'\n"
     ]
    },
    {
     "name": "stderr",
     "output_type": "stream",
     "text": [
      "E:\\Programm\\python\\lib\\site-packages\\sklearn\\decomposition\\_fastica.py:494: FutureWarning: Starting in v1.3, whiten='unit-variance' will be used by default.\n",
      "  warnings.warn(\n"
     ]
    },
    {
     "name": "stdout",
     "output_type": "stream",
     "text": [
      "Metric evaluation error: Number of classes in y_true not equal to the number of columns in 'y_score'\n"
     ]
    },
    {
     "name": "stderr",
     "output_type": "stream",
     "text": [
      "E:\\Programm\\python\\lib\\site-packages\\sklearn\\decomposition\\_fastica.py:494: FutureWarning: Starting in v1.3, whiten='unit-variance' will be used by default.\n",
      "  warnings.warn(\n"
     ]
    },
    {
     "name": "stdout",
     "output_type": "stream",
     "text": [
      "Metric evaluation error: Number of classes in y_true not equal to the number of columns in 'y_score'\n"
     ]
    },
    {
     "name": "stderr",
     "output_type": "stream",
     "text": [
      "E:\\Programm\\python\\lib\\site-packages\\sklearn\\decomposition\\_fastica.py:494: FutureWarning: Starting in v1.3, whiten='unit-variance' will be used by default.\n",
      "  warnings.warn(\n"
     ]
    },
    {
     "name": "stdout",
     "output_type": "stream",
     "text": [
      "Metric evaluation error: Number of classes in y_true not equal to the number of columns in 'y_score'\n",
      "Metric evaluation error: Number of classes in y_true not equal to the number of columns in 'y_score'\n",
      "Metric evaluation error: Number of classes in y_true not equal to the number of columns in 'y_score'\n",
      "Metric evaluation error: Number of classes in y_true not equal to the number of columns in 'y_score'\n",
      "Metric evaluation error: Number of classes in y_true not equal to the number of columns in 'y_score'\n",
      "Metric evaluation error: Number of classes in y_true not equal to the number of columns in 'y_score'\n",
      "Metric evaluation error: Number of classes in y_true not equal to the number of columns in 'y_score'\n",
      "Metric evaluation error: Number of classes in y_true not equal to the number of columns in 'y_score'\n",
      "Metric evaluation error: Number of classes in y_true not equal to the number of columns in 'y_score'\n",
      "Metric evaluation error: Number of classes in y_true not equal to the number of columns in 'y_score'\n",
      "Metric evaluation error: Number of classes in y_true not equal to the number of columns in 'y_score'\n",
      "Metric evaluation error: Number of classes in y_true not equal to the number of columns in 'y_score'\n",
      "Metric evaluation error: Number of classes in y_true not equal to the number of columns in 'y_score'\n",
      "Metric evaluation error: Number of classes in y_true not equal to the number of columns in 'y_score'\n",
      "Metric evaluation error: Number of classes in y_true not equal to the number of columns in 'y_score'\n",
      "Metric evaluation error: Number of classes in y_true not equal to the number of columns in 'y_score'\n",
      "Metric evaluation error: Number of classes in y_true not equal to the number of columns in 'y_score'\n",
      "Metric evaluation error: Number of classes in y_true not equal to the number of columns in 'y_score'\n",
      "Metric evaluation error: Number of classes in y_true not equal to the number of columns in 'y_score'\n",
      "Metric evaluation error: Number of classes in y_true not equal to the number of columns in 'y_score'\n",
      "Metric evaluation error: Number of classes in y_true not equal to the number of columns in 'y_score'\n",
      "Metric evaluation error: Number of classes in y_true not equal to the number of columns in 'y_score'\n",
      "Metric evaluation error: Number of classes in y_true not equal to the number of columns in 'y_score'\n",
      "Metric evaluation error: Number of classes in y_true not equal to the number of columns in 'y_score'\n",
      "Metric evaluation error: Number of classes in y_true not equal to the number of columns in 'y_score'\n",
      "Metric evaluation error: Number of classes in y_true not equal to the number of columns in 'y_score'\n",
      "Metric evaluation error: Number of classes in y_true not equal to the number of columns in 'y_score'\n",
      "Metric evaluation error: Number of classes in y_true not equal to the number of columns in 'y_score'\n",
      "Metric evaluation error: Number of classes in y_true not equal to the number of columns in 'y_score'\n",
      "Metric evaluation error: Number of classes in y_true not equal to the number of columns in 'y_score'\n",
      "Metric evaluation error: Number of classes in y_true not equal to the number of columns in 'y_score'\n",
      "Metric evaluation error: Number of classes in y_true not equal to the number of columns in 'y_score'\n",
      "Metric evaluation error: Number of classes in y_true not equal to the number of columns in 'y_score'\n",
      "Metric evaluation error: Number of classes in y_true not equal to the number of columns in 'y_score'\n",
      "Metric evaluation error: Number of classes in y_true not equal to the number of columns in 'y_score'\n",
      "Metric evaluation error: Number of classes in y_true not equal to the number of columns in 'y_score'\n",
      "Metric evaluation error: Number of classes in y_true not equal to the number of columns in 'y_score'\n",
      "Metric evaluation error: Number of classes in y_true not equal to the number of columns in 'y_score'\n",
      "Metric evaluation error: Number of classes in y_true not equal to the number of columns in 'y_score'\n",
      "Metric evaluation error: Number of classes in y_true not equal to the number of columns in 'y_score'\n",
      "Metric evaluation error: Number of classes in y_true not equal to the number of columns in 'y_score'\n",
      "Metric evaluation error: Number of classes in y_true not equal to the number of columns in 'y_score'\n",
      "Metric evaluation error: Number of classes in y_true not equal to the number of columns in 'y_score'\n",
      "Metric evaluation error: Number of classes in y_true not equal to the number of columns in 'y_score'\n",
      "Metric evaluation error: Number of classes in y_true not equal to the number of columns in 'y_score'\n",
      "Metric evaluation error: Number of classes in y_true not equal to the number of columns in 'y_score'\n",
      "2022-12-11 22:56:38,679 - GroupedCondition - Optimisation stopped: Time limit is reached\n"
     ]
    },
    {
     "name": "stderr",
     "output_type": "stream",
     "text": [
      "\r",
      "Generations:   0%|                                                                          | 1/10000 [06:06<?, ?gen/s]"
     ]
    },
    {
     "name": "stdout",
     "output_type": "stream",
     "text": [
      "2022-12-11 22:56:38,683 - ApiComposer - Hyperparameters tuning started with 4 min. timeout\n"
     ]
    },
    {
     "name": "stderr",
     "output_type": "stream",
     "text": [
      "\n"
     ]
    },
    {
     "name": "stdout",
     "output_type": "stream",
     "text": [
      "Metric evaluation error: Number of classes in y_true not equal to the number of columns in 'y_score'\n",
      "Metric evaluation error: Number of classes in y_true not equal to the number of columns in 'y_score'\n",
      "Metric evaluation error: Number of classes in y_true not equal to the number of columns in 'y_score'\n",
      "Metric evaluation error: Number of classes in y_true not equal to the number of columns in 'y_score'\n",
      "Metric evaluation error: Number of classes in y_true not equal to the number of columns in 'y_score'\n",
      "Metric evaluation error: Number of classes in y_true not equal to the number of columns in 'y_score'                   \n",
      "Metric evaluation error: Number of classes in y_true not equal to the number of columns in 'y_score'                   \n",
      "Metric evaluation error: Number of classes in y_true not equal to the number of columns in 'y_score'                   \n",
      "Metric evaluation error: Number of classes in y_true not equal to the number of columns in 'y_score'                   \n",
      "Metric evaluation error: Number of classes in y_true not equal to the number of columns in 'y_score'                   \n",
      "Metric evaluation error: Number of classes in y_true not equal to the number of columns in 'y_score'                   \n",
      "Metric evaluation error: Number of classes in y_true not equal to the number of columns in 'y_score'                   \n",
      "Metric evaluation error: Number of classes in y_true not equal to the number of columns in 'y_score'                   \n",
      "Metric evaluation error: Number of classes in y_true not equal to the number of columns in 'y_score'                   \n",
      "Metric evaluation error: Number of classes in y_true not equal to the number of columns in 'y_score'                   \n",
      "Metric evaluation error: Number of classes in y_true not equal to the number of columns in 'y_score'                   \n",
      "Metric evaluation error: Number of classes in y_true not equal to the number of columns in 'y_score'                   \n",
      "Metric evaluation error: Number of classes in y_true not equal to the number of columns in 'y_score'                   \n",
      "Metric evaluation error: Number of classes in y_true not equal to the number of columns in 'y_score'                   \n",
      "Metric evaluation error: Number of classes in y_true not equal to the number of columns in 'y_score'                   \n",
      "Metric evaluation error: Number of classes in y_true not equal to the number of columns in 'y_score'                   \n",
      "Metric evaluation error: Number of classes in y_true not equal to the number of columns in 'y_score'                   \n",
      "Metric evaluation error: Number of classes in y_true not equal to the number of columns in 'y_score'                   \n",
      "Metric evaluation error: Number of classes in y_true not equal to the number of columns in 'y_score'                   \n",
      "Metric evaluation error: Number of classes in y_true not equal to the number of columns in 'y_score'                   \n",
      "Metric evaluation error: Number of classes in y_true not equal to the number of columns in 'y_score'                   \n",
      "Metric evaluation error: Number of classes in y_true not equal to the number of columns in 'y_score'                   \n",
      "Metric evaluation error: Number of classes in y_true not equal to the number of columns in 'y_score'                   \n",
      "Metric evaluation error: Number of classes in y_true not equal to the number of columns in 'y_score'                   \n",
      "Metric evaluation error: Number of classes in y_true not equal to the number of columns in 'y_score'                   \n",
      "Metric evaluation error: Number of classes in y_true not equal to the number of columns in 'y_score'                   \n",
      "Metric evaluation error: Number of classes in y_true not equal to the number of columns in 'y_score'                   \n",
      "Metric evaluation error: Number of classes in y_true not equal to the number of columns in 'y_score'                   \n",
      "Metric evaluation error: Number of classes in y_true not equal to the number of columns in 'y_score'                   \n",
      "Metric evaluation error: Number of classes in y_true not equal to the number of columns in 'y_score'                   \n",
      "Metric evaluation error: Number of classes in y_true not equal to the number of columns in 'y_score'                   \n",
      "Metric evaluation error: Number of classes in y_true not equal to the number of columns in 'y_score'                   \n",
      "Metric evaluation error: Number of classes in y_true not equal to the number of columns in 'y_score'                   \n",
      "Metric evaluation error: Number of classes in y_true not equal to the number of columns in 'y_score'                   \n",
      "Metric evaluation error: Number of classes in y_true not equal to the number of columns in 'y_score'                   \n",
      "Metric evaluation error: Number of classes in y_true not equal to the number of columns in 'y_score'                   \n",
      "Metric evaluation error: Number of classes in y_true not equal to the number of columns in 'y_score'                   \n",
      "Metric evaluation error: Number of classes in y_true not equal to the number of columns in 'y_score'                   \n",
      "Metric evaluation error: Number of classes in y_true not equal to the number of columns in 'y_score'                   \n",
      "Metric evaluation error: Number of classes in y_true not equal to the number of columns in 'y_score'                   \n",
      "Metric evaluation error: Number of classes in y_true not equal to the number of columns in 'y_score'                   \n",
      "Metric evaluation error: Number of classes in y_true not equal to the number of columns in 'y_score'                   \n",
      "Metric evaluation error: Number of classes in y_true not equal to the number of columns in 'y_score'                   \n",
      "Metric evaluation error: Number of classes in y_true not equal to the number of columns in 'y_score'                   \n",
      "Metric evaluation error: Number of classes in y_true not equal to the number of columns in 'y_score'                   \n",
      "Metric evaluation error: Number of classes in y_true not equal to the number of columns in 'y_score'                   \n",
      "Metric evaluation error: Number of classes in y_true not equal to the number of columns in 'y_score'                   \n",
      "Metric evaluation error: Number of classes in y_true not equal to the number of columns in 'y_score'                   \n",
      "Metric evaluation error: Number of classes in y_true not equal to the number of columns in 'y_score'                   \n",
      "Metric evaluation error: Number of classes in y_true not equal to the number of columns in 'y_score'                   \n",
      "Metric evaluation error: Number of classes in y_true not equal to the number of columns in 'y_score'                   \n",
      "Metric evaluation error: Number of classes in y_true not equal to the number of columns in 'y_score'                   \n",
      "Metric evaluation error: Number of classes in y_true not equal to the number of columns in 'y_score'                   \n",
      "Metric evaluation error: Number of classes in y_true not equal to the number of columns in 'y_score'                   \n",
      "Metric evaluation error: Number of classes in y_true not equal to the number of columns in 'y_score'                   \n",
      "Metric evaluation error: Number of classes in y_true not equal to the number of columns in 'y_score'                   \n",
      "Metric evaluation error: Number of classes in y_true not equal to the number of columns in 'y_score'                   \n",
      "Metric evaluation error: Number of classes in y_true not equal to the number of columns in 'y_score'                   \n",
      "Metric evaluation error: Number of classes in y_true not equal to the number of columns in 'y_score'                   \n",
      "Metric evaluation error: Number of classes in y_true not equal to the number of columns in 'y_score'                   \n",
      "Metric evaluation error: Number of classes in y_true not equal to the number of columns in 'y_score'                   \n",
      "Metric evaluation error: Number of classes in y_true not equal to the number of columns in 'y_score'                   \n",
      "Metric evaluation error: Number of classes in y_true not equal to the number of columns in 'y_score'                   \n",
      "Metric evaluation error: Number of classes in y_true not equal to the number of columns in 'y_score'                   \n"
     ]
    },
    {
     "name": "stdout",
     "output_type": "stream",
     "text": [
      "Metric evaluation error: Number of classes in y_true not equal to the number of columns in 'y_score'                   \n",
      "Metric evaluation error: Number of classes in y_true not equal to the number of columns in 'y_score'                   \n",
      "Metric evaluation error: Number of classes in y_true not equal to the number of columns in 'y_score'                   \n",
      "Metric evaluation error: Number of classes in y_true not equal to the number of columns in 'y_score'                   \n",
      "Metric evaluation error: Number of classes in y_true not equal to the number of columns in 'y_score'                   \n",
      "Metric evaluation error: Number of classes in y_true not equal to the number of columns in 'y_score'                   \n",
      "Metric evaluation error: Number of classes in y_true not equal to the number of columns in 'y_score'                   \n",
      "Metric evaluation error: Number of classes in y_true not equal to the number of columns in 'y_score'                   \n",
      "Metric evaluation error: Number of classes in y_true not equal to the number of columns in 'y_score'                   \n",
      "Metric evaluation error: Number of classes in y_true not equal to the number of columns in 'y_score'                   \n",
      "Metric evaluation error: Number of classes in y_true not equal to the number of columns in 'y_score'                   \n",
      "Metric evaluation error: Number of classes in y_true not equal to the number of columns in 'y_score'                   \n",
      "Metric evaluation error: Number of classes in y_true not equal to the number of columns in 'y_score'                   \n",
      "Metric evaluation error: Number of classes in y_true not equal to the number of columns in 'y_score'                   \n",
      "Metric evaluation error: Number of classes in y_true not equal to the number of columns in 'y_score'                   \n",
      "Metric evaluation error: Number of classes in y_true not equal to the number of columns in 'y_score'                   \n",
      "Metric evaluation error: Number of classes in y_true not equal to the number of columns in 'y_score'                   \n",
      "Metric evaluation error: Number of classes in y_true not equal to the number of columns in 'y_score'                   \n",
      "Metric evaluation error: Number of classes in y_true not equal to the number of columns in 'y_score'                   \n",
      "Metric evaluation error: Number of classes in y_true not equal to the number of columns in 'y_score'                   \n",
      "Metric evaluation error: Number of classes in y_true not equal to the number of columns in 'y_score'                   \n",
      "Metric evaluation error: Number of classes in y_true not equal to the number of columns in 'y_score'                   \n",
      "Metric evaluation error: Number of classes in y_true not equal to the number of columns in 'y_score'                   \n",
      "Metric evaluation error: Number of classes in y_true not equal to the number of columns in 'y_score'                   \n",
      "Metric evaluation error: Number of classes in y_true not equal to the number of columns in 'y_score'                   \n",
      "Metric evaluation error: Number of classes in y_true not equal to the number of columns in 'y_score'                   \n",
      "Metric evaluation error: Number of classes in y_true not equal to the number of columns in 'y_score'                   \n",
      "Metric evaluation error: Number of classes in y_true not equal to the number of columns in 'y_score'                   \n",
      "Metric evaluation error: Number of classes in y_true not equal to the number of columns in 'y_score'                   \n",
      "Metric evaluation error: Number of classes in y_true not equal to the number of columns in 'y_score'                   \n",
      "Metric evaluation error: Number of classes in y_true not equal to the number of columns in 'y_score'                   \n",
      "Metric evaluation error: Number of classes in y_true not equal to the number of columns in 'y_score'                   \n",
      "Metric evaluation error: Number of classes in y_true not equal to the number of columns in 'y_score'                   \n",
      "Metric evaluation error: Number of classes in y_true not equal to the number of columns in 'y_score'                   \n",
      "Metric evaluation error: Number of classes in y_true not equal to the number of columns in 'y_score'                   \n",
      "Metric evaluation error: Number of classes in y_true not equal to the number of columns in 'y_score'                   \n",
      "Metric evaluation error: Number of classes in y_true not equal to the number of columns in 'y_score'                   \n",
      "Metric evaluation error: Number of classes in y_true not equal to the number of columns in 'y_score'                   \n",
      "Metric evaluation error: Number of classes in y_true not equal to the number of columns in 'y_score'                   \n",
      "Metric evaluation error: Number of classes in y_true not equal to the number of columns in 'y_score'                   \n",
      "Metric evaluation error: Number of classes in y_true not equal to the number of columns in 'y_score'                   \n",
      "Metric evaluation error: Number of classes in y_true not equal to the number of columns in 'y_score'                   \n",
      "Metric evaluation error: Number of classes in y_true not equal to the number of columns in 'y_score'                   \n",
      "Metric evaluation error: Number of classes in y_true not equal to the number of columns in 'y_score'                   \n",
      "Metric evaluation error: Number of classes in y_true not equal to the number of columns in 'y_score'                   \n",
      "Metric evaluation error: Number of classes in y_true not equal to the number of columns in 'y_score'                   \n",
      "Metric evaluation error: Number of classes in y_true not equal to the number of columns in 'y_score'                   \n",
      "Metric evaluation error: Number of classes in y_true not equal to the number of columns in 'y_score'                   \n",
      "Metric evaluation error: Number of classes in y_true not equal to the number of columns in 'y_score'                   \n",
      "Metric evaluation error: Number of classes in y_true not equal to the number of columns in 'y_score'                   \n",
      "Metric evaluation error: Number of classes in y_true not equal to the number of columns in 'y_score'                   \n",
      "Metric evaluation error: Number of classes in y_true not equal to the number of columns in 'y_score'                   \n",
      "Metric evaluation error: Number of classes in y_true not equal to the number of columns in 'y_score'                   \n",
      "Metric evaluation error: Number of classes in y_true not equal to the number of columns in 'y_score'                   \n",
      "Metric evaluation error: Number of classes in y_true not equal to the number of columns in 'y_score'                   \n",
      "Metric evaluation error: Number of classes in y_true not equal to the number of columns in 'y_score'                   \n",
      "  0%|                                        | 24/100000 [03:53<270:36:56,  9.74s/trial, best loss: 0.5003333333333333]\n",
      "Metric evaluation error: Number of classes in y_true not equal to the number of columns in 'y_score'\n",
      "Metric evaluation error: Number of classes in y_true not equal to the number of columns in 'y_score'\n",
      "Metric evaluation error: Number of classes in y_true not equal to the number of columns in 'y_score'\n",
      "Metric evaluation error: Number of classes in y_true not equal to the number of columns in 'y_score'\n",
      "Metric evaluation error: Number of classes in y_true not equal to the number of columns in 'y_score'\n",
      "2022-12-11 23:00:46,574 - ApiComposer - Hyperparameters tuning finished\n",
      "2022-12-11 23:00:46,667 - ApiComposer - Model generation finished\n",
      "2022-12-11 23:00:46,904 - FEDOT logger - Final pipeline was fitted\n",
      "2022-12-11 23:00:46,905 - FEDOT logger - Final pipeline: {'depth': 1, 'length': 1, 'nodes': [rf]}\n"
     ]
    }
   ],
   "source": [
    "pipeline = auto_model.fit(features=X_train, target=y_train)\n"
   ]
  },
  {
   "cell_type": "code",
   "execution_count": 11,
   "id": "fe6bb79a",
   "metadata": {},
   "outputs": [],
   "source": [
    "\n",
    "prediction = auto_model.predict_proba(features=X_test)"
   ]
  },
  {
   "cell_type": "code",
   "execution_count": 12,
   "id": "a502517c",
   "metadata": {},
   "outputs": [],
   "source": [
    "predict =auto_model.predict(X_test)"
   ]
  },
  {
   "cell_type": "code",
   "execution_count": 13,
   "id": "a5a5d1c5",
   "metadata": {},
   "outputs": [
    {
     "name": "stdout",
     "output_type": "stream",
     "text": [
      "recall:  0.09\n"
     ]
    }
   ],
   "source": [
    "print('recall: ',recall_score(y_test, predict, average='micro'))"
   ]
  },
  {
   "cell_type": "code",
   "execution_count": null,
   "id": "a011ec19",
   "metadata": {},
   "outputs": [],
   "source": []
  }
 ],
 "metadata": {
  "kernelspec": {
   "display_name": "Python 3 (ipykernel)",
   "language": "python",
   "name": "python3"
  },
  "language_info": {
   "codemirror_mode": {
    "name": "ipython",
    "version": 3
   },
   "file_extension": ".py",
   "mimetype": "text/x-python",
   "name": "python",
   "nbconvert_exporter": "python",
   "pygments_lexer": "ipython3",
   "version": "3.10.7"
  }
 },
 "nbformat": 4,
 "nbformat_minor": 5
}
